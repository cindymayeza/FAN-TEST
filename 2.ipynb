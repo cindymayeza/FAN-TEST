{
 "cells": [
  {
   "cell_type": "code",
   "execution_count": 13,
   "metadata": {},
   "outputs": [],
   "source": [
    "def count_words(sentence, special_characters):\n",
    "    words = sentence.split()\n",
    "    word_count = 0\n",
    "    for word in words:\n",
    "        if all(char not in special_characters for char in word):\n",
    "            word_count += 1\n",
    "    return word_count"
   ]
  },
  {
   "cell_type": "raw",
   "metadata": {},
   "source": [
    "a. Input : Saat meng*ecat tembok, Agung dib_antu oleh Raihan.\n",
    "   Output: 5"
   ]
  },
  {
   "cell_type": "code",
   "execution_count": 14,
   "metadata": {},
   "outputs": [
    {
     "name": "stdout",
     "output_type": "stream",
     "text": [
      "Jumlah kata: 5\n"
     ]
    }
   ],
   "source": [
    "sentence = \"Saat meng*ecat tembok, Agung dib_antu oleh Raihan.\"\n",
    "special_characters = \"!@#$%^&*()_\"\n",
    "word_count = count_words(sentence, special_characters)\n",
    "print(\"Jumlah kata:\", word_count)"
   ]
  },
  {
   "cell_type": "raw",
   "metadata": {},
   "source": [
    "b. Input: Berapa u(mur minimal[ untuk !mengurus ktp?\n",
    "   Output: 3"
   ]
  },
  {
   "cell_type": "code",
   "execution_count": 15,
   "metadata": {},
   "outputs": [
    {
     "name": "stdout",
     "output_type": "stream",
     "text": [
      "Jumlah kata: 3\n"
     ]
    }
   ],
   "source": [
    "sentence = \"Berapa u(mur minimal[ untuk !mengurus ktp?\"\n",
    "special_characters = \"!@#$%^&*()_[\"\n",
    "word_count = count_words(sentence, special_characters)\n",
    "print(\"Jumlah kata:\", word_count)"
   ]
  },
  {
   "cell_type": "raw",
   "metadata": {},
   "source": [
    "c. Input: Masing-masing anak mendap(atkan uang jajan ya=ng be&rbeda.\n",
    "   Output: 4"
   ]
  },
  {
   "cell_type": "code",
   "execution_count": 17,
   "metadata": {},
   "outputs": [
    {
     "name": "stdout",
     "output_type": "stream",
     "text": [
      "Jumlah kata: 4\n"
     ]
    }
   ],
   "source": [
    "sentence = \"Masing-masing anak mendap(atkan uang jajan ya=ng be&rbeda.\"\n",
    "special_characters = \"!@#$%^&*()_[=\"\n",
    "word_count = count_words(sentence, special_characters)\n",
    "print(\"Jumlah kata:\", word_count)"
   ]
  },
  {
   "cell_type": "raw",
   "metadata": {},
   "source": [
    "Thankyou ^-^"
   ]
  }
 ],
 "metadata": {
  "kernelspec": {
   "display_name": "Python 3",
   "language": "python",
   "name": "python3"
  },
  "language_info": {
   "codemirror_mode": {
    "name": "ipython",
    "version": 3
   },
   "file_extension": ".py",
   "mimetype": "text/x-python",
   "name": "python",
   "nbconvert_exporter": "python",
   "pygments_lexer": "ipython3",
   "version": "3.8.5"
  }
 },
 "nbformat": 4,
 "nbformat_minor": 4
}
