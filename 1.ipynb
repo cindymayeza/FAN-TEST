{
 "cells": [
  {
   "cell_type": "code",
   "execution_count": 2,
   "metadata": {},
   "outputs": [],
   "source": [
    "def count_socks(socks): \n",
    "    socks_count = {} \n",
    "    for sock in socks: \n",
    "        if sock in socks_count:\n",
    "            socks_count[sock] += 1\n",
    "        else:\n",
    "            socks_count[sock] = 1\n",
    "    return sum(count//2 for count in socks_count.values())"
   ]
  },
  {
   "cell_type": "raw",
   "metadata": {},
   "source": [
    "a. Input: [10 20 20 10 10 30 50 10 20]\n",
    "   Output yang diharapkan: 3"
   ]
  },
  {
   "cell_type": "code",
   "execution_count": 4,
   "metadata": {},
   "outputs": [
    {
     "name": "stdout",
     "output_type": "stream",
     "text": [
      "3\n"
     ]
    }
   ],
   "source": [
    "socks = [10,20,20,10,10,30,50,10,20]\n",
    "print(count_socks(socks))"
   ]
  },
  {
   "cell_type": "raw",
   "metadata": {},
   "source": [
    "b. input: [6 5 2 3 5 2 2 1 1 5 1 3 3 3 5]\n",
    "   Output yang diharapkan: 6"
   ]
  },
  {
   "cell_type": "code",
   "execution_count": 5,
   "metadata": {},
   "outputs": [
    {
     "name": "stdout",
     "output_type": "stream",
     "text": [
      "6\n"
     ]
    }
   ],
   "source": [
    "socks = [6,5,2,3,5,2,2,1,1,5,1,3,3,3,5]\n",
    "print(count_socks(socks))"
   ]
  },
  {
   "cell_type": "raw",
   "metadata": {},
   "source": [
    "c. Input: [1 1 3 1 2 1 3 3 3 3]\n",
    "   Output yang diharapkan: 4"
   ]
  },
  {
   "cell_type": "code",
   "execution_count": 6,
   "metadata": {},
   "outputs": [
    {
     "name": "stdout",
     "output_type": "stream",
     "text": [
      "4\n"
     ]
    }
   ],
   "source": [
    "socks = [1,1,3,1,2,1,3,3,3,3]\n",
    "print(count_socks(socks))"
   ]
  },
  {
   "cell_type": "raw",
   "metadata": {},
   "source": [
    "Thankyou ^-^"
   ]
  }
 ],
 "metadata": {
  "kernelspec": {
   "display_name": "Python 3",
   "language": "python",
   "name": "python3"
  },
  "language_info": {
   "codemirror_mode": {
    "name": "ipython",
    "version": 3
   },
   "file_extension": ".py",
   "mimetype": "text/x-python",
   "name": "python",
   "nbconvert_exporter": "python",
   "pygments_lexer": "ipython3",
   "version": "3.8.5"
  }
 },
 "nbformat": 4,
 "nbformat_minor": 4
}
